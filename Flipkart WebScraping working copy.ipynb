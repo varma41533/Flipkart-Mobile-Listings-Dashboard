{
 "cells": [
  {
   "cell_type": "code",
   "execution_count": 19,
   "id": "4d7fe90d",
   "metadata": {},
   "outputs": [
    {
     "name": "stdout",
     "output_type": "stream",
     "text": [
      "792\n",
      "792\n",
      "792\n",
      "792\n"
     ]
    }
   ],
   "source": [
    "import requests\n",
    "import pandas as pd\n",
    "from bs4 import BeautifulSoup\n",
    "mt=[]\n",
    "mr=[]\n",
    "mre=[]\n",
    "mp=[]\n",
    "#mrp=[]\n",
    "\n",
    "for i in range(2,35):\n",
    "    \n",
    "    url='https://www.flipkart.com/search?q=mobiles&otracker=search&otracker1=search&marketplace=FLIPKART&as-show=on&as=off&page='+str(i)\n",
    "    headers={\"User-Agent\": \"Mozilla/5.0 (Macintosh; Intel Mac OS X 10_15_7) AppleWebKit/537.36 (KHTML, like Gecko) Chrome/129.0.0.0 Safari/537.36\", \"Accept-Encoding\":\"gzip, deflate\", \"Accept\":\"text/html,application/xhtml+xml,application/xml;q=0.9,*/*;q=0.8\", \"DNT\":\"1\",\"Connection\":\"close\", \"Upgrade-Insecure-Requests\":\"1\"}\n",
    "    r=requests.get(url,headers=headers)\n",
    "    #print(r)\n",
    "    soup=BeautifulSoup(r.text,'lxml')\n",
    "    #print(soup)\n",
    "    #np=soup.find(\"a\",class_='_9QVEpD').get('href')\n",
    "    #print(np)\n",
    "    #cnp='https://www.flipkart.com'+np\n",
    "    #print(cnp)\n",
    "    titles=soup.find_all('div',class_=\"KzDlHZ\")\n",
    "    #print(titles)\n",
    "    #scraping features\n",
    "    features=soup.find_all('div',class_=\"_6NESgJ\")\n",
    "    #print(features)\n",
    "    #scraping reviews\n",
    "    reviews=soup.find_all('span',class_=\"Wphh3N\")\n",
    "    #print(reviews)\n",
    "    #scraping prices\n",
    "    prices=soup.find_all('div',class_=\"Nx9bqj _4b5DiR\")\n",
    "    #print(prices)\n",
    "    #offer\n",
    "    #mrp=soup.find_all('div',class_='yRaY8j ZYYwLA')\n",
    "    #print(mrp)\n",
    "    for i in titles:\n",
    "        mt.append(i.text)\n",
    "    #print(titles)\n",
    "    for i in features:\n",
    "        mr.append(i.text)\n",
    "    #print(rating)\n",
    "    for i in reviews:\n",
    "        mre.append(i.text)\n",
    "    for i in prices:\n",
    "        mp.append(i.text)\n",
    "    #for i in mrp:\n",
    "        #mrp.append(i.text)\n",
    "        \n",
    "#saving data in csv\n",
    "data={\"MOBILE_NAME\":mt,\"FEATURES\":mr,\"MOBILE_REVIEW\":mre,\"MOBILE_PRICE\":mp}\n",
    "print(len(mt))\n",
    "print(len(mr))\n",
    "print(len(mre))\n",
    "print(len(mp))\n",
    "#print(len(mrp))\n",
    "dataFrame=pd.DataFrame(data)\n",
    "#dataFrame.describe()\n",
    "dataFrame.to_csv(r'/Users/gottumukkalasaimanojvarma/Desktop/WebScrapping\\Flipkart_mobiledata.csv')\n",
    "dataFrame.to_excel(r'/Users/gottumukkalasaimanojvarma/Desktop/WebScrapping\\Flipkart_mobiledata.xlsx')\n",
    "#dataFrame\n",
    "    \n",
    "    \n",
    "    \n"
   ]
  },
  {
   "cell_type": "code",
   "execution_count": null,
   "id": "fef2e9ac",
   "metadata": {},
   "outputs": [],
   "source": []
  }
 ],
 "metadata": {
  "kernelspec": {
   "display_name": "Python 3 (ipykernel)",
   "language": "python",
   "name": "python3"
  },
  "language_info": {
   "codemirror_mode": {
    "name": "ipython",
    "version": 3
   },
   "file_extension": ".py",
   "mimetype": "text/x-python",
   "name": "python",
   "nbconvert_exporter": "python",
   "pygments_lexer": "ipython3",
   "version": "3.11.5"
  }
 },
 "nbformat": 4,
 "nbformat_minor": 5
}
